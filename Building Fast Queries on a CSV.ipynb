{
 "cells": [
  {
   "cell_type": "markdown",
   "id": "3ef53333",
   "metadata": {},
   "source": [
    "### Building Fast Queries on a CSV\n",
    "\n",
    "In this project, we will imagine that we own an online laptop store and want to build a way to answer a few different business questions about our inventory.\n",
    "\n",
    "We will use the laptops.csv file as our inventory. This CSV file was adapted from the __[Laptop Prices dataset on Kaggle](https://www.kaggle.com/ionaskel/laptop-prices)__. \n",
    "\n",
    "The goal of this project is to create a class that represents our inventory. The methods in that class will implement the queries that we want to answer about our inventory. We will also preprocess that data to make those queries run faster.\n",
    "\n",
    "Here are some queries that we will want to answer:\n",
    "\n",
    "Given a laptop id, find the corresponding data.\n",
    "Given an amount of money, find whether there are two laptops whose total price is that given amount.\n",
    "Identify all laptops whose price falls within a given budget.\n",
    "\n",
    "To begin, we read in our data"
   ]
  },
  {
   "cell_type": "code",
   "execution_count": 1,
   "id": "8f82d54f",
   "metadata": {},
   "outputs": [
    {
     "name": "stdout",
     "output_type": "stream",
     "text": [
      "['Id', 'Company', 'Product', 'TypeName', 'Inches', 'ScreenResolution', 'Cpu', 'Ram', 'Memory', 'Gpu', 'OpSys', 'Weight', 'Price']\n",
      "[['6571244', 'Apple', 'MacBook Pro', 'Ultrabook', '13.3', 'IPS Panel Retina Display 2560x1600', 'Intel Core i5 2.3GHz', '8GB', '128GB SSD', 'Intel Iris Plus Graphics 640', 'macOS', '1.37kg', '1339'], ['7287764', 'Apple', 'Macbook Air', 'Ultrabook', '13.3', '1440x900', 'Intel Core i5 1.8GHz', '8GB', '128GB Flash Storage', 'Intel HD Graphics 6000', 'macOS', '1.34kg', '898'], ['3362737', 'HP', '250 G6', 'Notebook', '15.6', 'Full HD 1920x1080', 'Intel Core i5 7200U 2.5GHz', '8GB', '256GB SSD', 'Intel HD Graphics 620', 'No OS', '1.86kg', '575'], ['9722156', 'Apple', 'MacBook Pro', 'Ultrabook', '15.4', 'IPS Panel Retina Display 2880x1800', 'Intel Core i7 2.7GHz', '16GB', '512GB SSD', 'AMD Radeon Pro 455', 'macOS', '1.83kg', '2537'], ['8550527', 'Apple', 'MacBook Pro', 'Ultrabook', '13.3', 'IPS Panel Retina Display 2560x1600', 'Intel Core i5 3.1GHz', '8GB', '256GB SSD', 'Intel Iris Plus Graphics 650', 'macOS', '1.37kg', '1803']]\n",
      "1303\n"
     ]
    }
   ],
   "source": [
    "from csv import reader\n",
    "    \n",
    "with open (\"C:/Users/kenechukwu.ifediorah/OneDrive - EverCare (1)/Documents/PythonDA/Datasets/laptops.csv\", encoding = \"utf-8\") as file:\n",
    "    read = list(reader(file))\n",
    "    header = read[0]\n",
    "    rows = read[1:]\n",
    "print(header)\n",
    "print(rows[:5])\n",
    "print(len(rows))"
   ]
  },
  {
   "cell_type": "markdown",
   "id": "ed11c618",
   "metadata": {},
   "source": [
    "__Let's start by implementing the constructor. It will take the name of the CSV file as argument and then read the rows contained in it.__\n",
    "\n",
    "__Throughout this project, we will make several improvements to the Inventory class. We will copy and paste the last version of the class, then add the new functionalitiees we want to implement. The new functionalities for every duplicated version will be marked _(#New Change)_. This will help you keep track of the changes that we make.__"
   ]
  },
  {
   "cell_type": "code",
   "execution_count": 2,
   "id": "8964fae8",
   "metadata": {},
   "outputs": [],
   "source": [
    "class Inventory():\n",
    "    def __init__(self, csv_filename):\n",
    "        with open (\"C:/Users/kenechukwu.ifediorah/OneDrive - EverCare (1)/Documents/PythonDA/Datasets/{name}\".format(name = csv_filename), encoding = \"utf-8\") as file:\n",
    "            read = list(reader(file))\n",
    "            self.header = read[0]\n",
    "            self.rows = read[1:]\n",
    "        for row in self.rows:\n",
    "            row[-1] = int(row[-1])"
   ]
  },
  {
   "cell_type": "code",
   "execution_count": 3,
   "id": "09d719ea",
   "metadata": {},
   "outputs": [
    {
     "name": "stdout",
     "output_type": "stream",
     "text": [
      "['Id', 'Company', 'Product', 'TypeName', 'Inches', 'ScreenResolution', 'Cpu', 'Ram', 'Memory', 'Gpu', 'OpSys', 'Weight', 'Price']\n",
      "1303\n",
      "[['6571244', 'Apple', 'MacBook Pro', 'Ultrabook', '13.3', 'IPS Panel Retina Display 2560x1600', 'Intel Core i5 2.3GHz', '8GB', '128GB SSD', 'Intel Iris Plus Graphics 640', 'macOS', '1.37kg', 1339], ['7287764', 'Apple', 'Macbook Air', 'Ultrabook', '13.3', '1440x900', 'Intel Core i5 1.8GHz', '8GB', '128GB Flash Storage', 'Intel HD Graphics 6000', 'macOS', '1.34kg', 898]]\n"
     ]
    }
   ],
   "source": [
    "Test = Inventory(\"laptops.csv\")\n",
    "print(Test.header)\n",
    "print(len(Test.rows))\n",
    "print(Test.rows[:2])"
   ]
  },
  {
   "cell_type": "markdown",
   "id": "8732fdee",
   "metadata": {},
   "source": [
    "__The first thing that we will implement is a way to look up a laptop from a given identifier. In this way, when a customer comes to our store with a purchase slip, we can quickly identify the laptop to which it corresponds.__\n",
    "\n",
    "\n",
    "__For this, we will write a function named get_laptop_from_id(). This function will take as argument the identifier of the laptop and return the full row of the laptop with that id.__"
   ]
  },
  {
   "cell_type": "code",
   "execution_count": 4,
   "id": "08d14e4e",
   "metadata": {},
   "outputs": [],
   "source": [
    "class Inventory():\n",
    "    def __init__(self, csv_filename):\n",
    "        with open (\"C:/Users/kenechukwu.ifediorah/OneDrive - EverCare (1)/Documents/PythonDA/Datasets/{name}\".format(name = csv_filename), encoding = \"utf-8\") as file:\n",
    "            read = list(reader(file))\n",
    "            self.header = read[0]\n",
    "            self.rows = read[1:]\n",
    "        for row in self.rows:\n",
    "            row[-1] = int(row[-1])\n",
    "    def get_laptop_from_id(self, laptop_id):    #New Change\n",
    "        for row in self.rows:        #New Change\n",
    "            if row[0] == laptop_id:          #New Change\n",
    "                return row                  #New Change\n",
    "        return \"None\""
   ]
  },
  {
   "cell_type": "code",
   "execution_count": 5,
   "id": "42fffb87",
   "metadata": {},
   "outputs": [
    {
     "name": "stdout",
     "output_type": "stream",
     "text": [
      "['3362737', 'HP', '250 G6', 'Notebook', '15.6', 'Full HD 1920x1080', 'Intel Core i5 7200U 2.5GHz', '8GB', '256GB SSD', 'Intel HD Graphics 620', 'No OS', '1.86kg', 575]\n",
      "None\n"
     ]
    }
   ],
   "source": [
    "Test1 = Inventory(\"laptops.csv\")\n",
    "print(Test1.get_laptop_from_id('3362737'))\n",
    "print(Test1.get_laptop_from_id('3362736'))"
   ]
  },
  {
   "cell_type": "markdown",
   "id": "75926062",
   "metadata": {},
   "source": [
    "__The algorithm from the previous screen requires us to look at every single row to find the one that we are looking for (or decide that such a row does not exist). This algorithm has time complexity `O(R)` where R is the number of rows.__\n",
    "\n",
    "We can solve this problem more efficiently by preprocessing the data. Using a set, we can check in constant time whether a given identifier exists. However, we don't just want to know if it exists, we also want to retrieve the remaining row information. Therefore, we will use a dictionary instead of a set. Dictionaries have the same fast lookup properties that sets have, but allow us to associate values to the keys.\n",
    "\n",
    "In our dataset, we only have about 1,300 laptops, so it might seem unnecessary to improve the performance of this query. However, we imagine that this code could be used in situations where the inventory contains millions of rows. Also, if we perform a lot of queries, even on a small dataset, the slow query performance will start to add up. It might eventually become the bottleneck of the application.\n",
    "\n",
    "The idea is proceprocess the data into a dictionary where the keys are the IDs and the values the rows. Then, we will use that dictionary in the `get_laptop_from_id()` method. We can do this by:\n",
    "\n",
    "- Preprocess the data and create the dictionary in the `__init__()` method.\n",
    "- Re-implement the `get_laptop_from_id()` method. We will do it as a new method so that we can compare the two."
   ]
  },
  {
   "cell_type": "code",
   "execution_count": 6,
   "id": "c0431b35",
   "metadata": {},
   "outputs": [],
   "source": [
    "class Inventory():\n",
    "    \n",
    "    def __init__(self, csv_filename):\n",
    "        with open (\"C:/Users/kenechukwu.ifediorah/OneDrive - EverCare (1)/Documents/PythonDA/Datasets/{name}\".format(name = csv_filename), encoding = \"utf-8\") as file:\n",
    "            read = list(reader(file))\n",
    "            self.header = read[0]\n",
    "            self.rows = read[1:]\n",
    "        for row in self.rows:\n",
    "            row[-1] = int(row[-1])\n",
    "        self.id_to_row = {}            #New Change\n",
    "        for row in self.rows:        #New Change\n",
    "            self.id_to_row[row[0]] = row          #New Change\n",
    "            \n",
    "    def get_laptop_from_id(self, laptop_id):\n",
    "        for row in self.rows:\n",
    "            if row[0] == laptop_id:\n",
    "                return row\n",
    "        return \"None\"\n",
    "    \n",
    "    def get_laptop_from_id_fast(self, laptop_id):         #New Change\n",
    "        if laptop_id in self.id_to_row:                  #New Change\n",
    "            return self.id_to_row[laptop_id]         #New Change\n",
    "        else:                             #New change\n",
    "            return \"None\"               #New Change"
   ]
  },
  {
   "cell_type": "code",
   "execution_count": 7,
   "id": "29b474d1",
   "metadata": {},
   "outputs": [
    {
     "name": "stdout",
     "output_type": "stream",
     "text": [
      "['3362737', 'HP', '250 G6', 'Notebook', '15.6', 'Full HD 1920x1080', 'Intel Core i5 7200U 2.5GHz', '8GB', '256GB SSD', 'Intel HD Graphics 620', 'No OS', '1.86kg', 575]\n",
      "None\n"
     ]
    }
   ],
   "source": [
    "Test1 = Inventory(\"laptops.csv\")\n",
    "print(Test1.get_laptop_from_id('3362737'))\n",
    "print(Test1.get_laptop_from_id('3362736'))"
   ]
  },
  {
   "cell_type": "markdown",
   "id": "73ca7dd5",
   "metadata": {},
   "source": [
    "__Let's experiment to compare the performance of the two methods. The idea is to generate random IDs using the random module. Then, use both methods to lookup these same IDs. We will use the time module to measure the execution time of each lookup and, for each method, add all times together.__"
   ]
  },
  {
   "cell_type": "code",
   "execution_count": 8,
   "id": "216c1493",
   "metadata": {},
   "outputs": [
    {
     "name": "stdout",
     "output_type": "stream",
     "text": [
      "1.8743224143981934\n",
      "0.0\n"
     ]
    }
   ],
   "source": [
    "import time\n",
    "import random\n",
    "\n",
    "ids = [str(random.randint(1000000,9999999)) for j in range(10000)]\n",
    "Test2 = Inventory(\"laptops.csv\")\n",
    "\n",
    "total_time_no_dict = 0\n",
    "for x in ids:\n",
    "    start = time.time()\n",
    "    Test2.get_laptop_from_id(x)\n",
    "    stop = time.time()\n",
    "    total_time_no_dict += stop-start\n",
    "    \n",
    "total_time_dict = 0\n",
    "for x in ids:\n",
    "    start = time.time()\n",
    "    Test2.get_laptop_from_id_fast(x)\n",
    "    stop = time.time()\n",
    "    total_time_dict += stop-start\n",
    "\n",
    "print(total_time_no_dict)\n",
    "print(total_time_dict)"
   ]
  },
  {
   "cell_type": "markdown",
   "id": "b11e0c24",
   "metadata": {},
   "source": [
    "__We can see that the method that prepeocesses the data into a dictionary rus way faster than the initial method which loops through all the rows to search for the laptop_id__"
   ]
  },
  {
   "cell_type": "markdown",
   "id": "de1ddf78",
   "metadata": {},
   "source": [
    "__Sometimes, your store offers a promotion where you give a gift card. A customer can use the gift to buy up to two laptops. To avoid having to keep track of what was already spent, the gift card has a single time usage. This means that, even if there is leftover money, it cannot be used anymore.__\n",
    "\n",
    "__For example,__ imagine that there are only three laptops in inventory:\n",
    "\n",
    "The prices of these laptops are USD 1,339, USD 898, and USD 575. Say we offered a gift card of USD 2,500. Since a customer can buy, at most, two laptops with a gift card, the maximum they can spend is USD 2,237 (USD 1,339 plus USD 898). Therefore, they might feel cheated because, no matter how they spend their gift card, they cannot spend the full USD 2,500.\n",
    "\n",
    "You don't want to make a customer feel cheated, so whenever you issue a gift card, you want to make sure that there is at least one way to spend it in full. In other words, before issuing a gift card for D dollars, you want to make sure that either there is a laptop that costs exactly D dollars or two laptops whose costs add up to precisely D dollars."
   ]
  },
  {
   "cell_type": "code",
   "execution_count": 9,
   "id": "63fc234a",
   "metadata": {},
   "outputs": [],
   "source": [
    "class Inventory():\n",
    "    \n",
    "    def __init__(self, csv_filename):\n",
    "        with open (\"C:/Users/kenechukwu.ifediorah/OneDrive - EverCare (1)/Documents/PythonDA/Datasets/{name}\".format(name = csv_filename), encoding = \"utf-8\") as file:\n",
    "            read = list(reader(file))\n",
    "            self.header = read[0]\n",
    "            self.rows = read[1:]\n",
    "        for row in self.rows:\n",
    "            row[-1] = int(row[-1])\n",
    "        self.id_to_row = {}           \n",
    "        for row in self.rows:        \n",
    "            self.id_to_row[row[0]] = row          \n",
    "            \n",
    "    def get_laptop_from_id(self, laptop_id):\n",
    "        for row in self.rows:\n",
    "            if row[0] == laptop_id:\n",
    "                return row\n",
    "        return \"None\"\n",
    "    \n",
    "    def get_laptop_from_id_fast(self, laptop_id):\n",
    "        if laptop_id in self.id_to_row:\n",
    "            return self.id_to_row[laptop_id]\n",
    "        else:\n",
    "            return \"None\"\n",
    "    def check_promotion_dollars(self, dollars):         #New Change\n",
    "        for i in self.rows:                 #New Change\n",
    "            for j in self.rows:        #New Change\n",
    "                if dollars == i[-1] or dollars == i[-1] + i[-1]:       #New Change\n",
    "                    return True\n",
    "        return False           #New Change"
   ]
  },
  {
   "cell_type": "code",
   "execution_count": 10,
   "id": "ccae7c92",
   "metadata": {},
   "outputs": [
    {
     "name": "stdout",
     "output_type": "stream",
     "text": [
      "True\n",
      "False\n"
     ]
    }
   ],
   "source": [
    "Test3 = Inventory(\"laptops.csv\")\n",
    "print(Test3.check_promotion_dollars(1000))\n",
    "print(Test3.check_promotion_dollars(442))"
   ]
  },
  {
   "cell_type": "markdown",
   "id": "0d8edfc3",
   "metadata": {},
   "source": [
    "__Let's try to make our code run faster.__\n",
    "\n",
    "Since we only care about whether or not there is a solution, we can store all laptops prices in a set when we initialize the inventory. Then we can check in constant time whether there is a laptop with a given price.\n"
   ]
  },
  {
   "cell_type": "code",
   "execution_count": 11,
   "id": "4e7f1810",
   "metadata": {},
   "outputs": [],
   "source": [
    "class Inventory():\n",
    "    \n",
    "    def __init__(self, csv_filename):\n",
    "        with open (\"C:/Users/kenechukwu.ifediorah/OneDrive - EverCare (1)/Documents/PythonDA/Datasets/{name}\".format(name = csv_filename), encoding = \"utf-8\") as file:\n",
    "            read = list(reader(file))\n",
    "            self.header = read[0]\n",
    "            self.rows = read[1:]\n",
    "        for row in self.rows:\n",
    "            row[-1] = int(row[-1])\n",
    "        self.id_to_row = {}\n",
    "        for row in self.rows:        \n",
    "            self.id_to_row[row[0]] = row \n",
    "        self.prices = set()                        #New Change\n",
    "        for row in self.rows:                         #New Change\n",
    "            self.prices.add(row[-1])                  #New Change\n",
    "            \n",
    "    def get_laptop_from_id(self, laptop_id):\n",
    "        for row in self.rows:\n",
    "            if row[0] == laptop_id:\n",
    "                return row\n",
    "        return \"None\"\n",
    "    \n",
    "    def get_laptop_from_id_fast(self, laptop_id):\n",
    "        if laptop_id in self.id_to_row:\n",
    "            return self.id_to_row[laptop_id]\n",
    "        else:\n",
    "            return \"None\"\n",
    "    def check_promotion_dollars(self, dollars):    \n",
    "        for i in self.rows:          \n",
    "            for j in self.rows:\n",
    "                if dollars == i[-1] or dollars == i[-1] + i[-1]:\n",
    "                    return True\n",
    "        return False      \n",
    "    \n",
    "    def check_promotion_dollars_fast(self, dollars):      #New Change\n",
    "        for i in self.prices:                            #New Change\n",
    "            for j in self.prices:                        #New Change\n",
    "                if i == dollars or i+j == dollars:                 #New Change\n",
    "                    return True                        #New Change\n",
    "        return False                                   #New Change\n",
    "\n",
    "        "
   ]
  },
  {
   "cell_type": "code",
   "execution_count": 12,
   "id": "b591b938",
   "metadata": {},
   "outputs": [
    {
     "name": "stdout",
     "output_type": "stream",
     "text": [
      "True\n",
      "False\n"
     ]
    }
   ],
   "source": [
    "Test4 = Inventory(\"laptops.csv\")\n",
    "print(Test4.check_promotion_dollars_fast(1000))\n",
    "print(Test4.check_promotion_dollars_fast(442))"
   ]
  },
  {
   "cell_type": "code",
   "execution_count": 13,
   "id": "efa35aef",
   "metadata": {},
   "outputs": [
    {
     "name": "stdout",
     "output_type": "stream",
     "text": [
      "52.965383529663086\n",
      "10.139368772506714\n"
     ]
    }
   ],
   "source": [
    "prices = [str(random.randint(100,5000)) for j in range(100)]\n",
    "Test5 = Inventory(\"laptops.csv\")\n",
    "\n",
    "total_time_no_set = 0\n",
    "for x in prices:\n",
    "    start = time.time()\n",
    "    Test5.check_promotion_dollars(x)\n",
    "    stop = time.time()\n",
    "    total_time_no_set += stop-start\n",
    "    \n",
    "total_time_set = 0\n",
    "for x in prices:\n",
    "    start = time.time()\n",
    "    Test5.check_promotion_dollars_fast(x)\n",
    "    stop = time.time()\n",
    "    total_time_set += stop-start\n",
    "\n",
    "print(total_time_no_set)\n",
    "print(total_time_set)"
   ]
  },
  {
   "cell_type": "markdown",
   "id": "9e1ede53",
   "metadata": {},
   "source": [
    "__In this project, we are going to leverage and extend that algorithm to help a customer find all laptops that fall within their budget.__\n",
    "\n",
    "More formally, we want to write a method that efficiently answers the query: Given a budget of D dollars, find all laptops whose price it at most D.\n",
    "\n",
    "If we sort all laptops by price, we can use binary search to identify the first laptop in the sorted list with a price larger than D. We need to make sure that our binary search finds the first one on the list. Then, the result of the query will consist of all laptops whose index in the sorted list is smaller than the index of the first laptop whose price is higher than D dollars:"
   ]
  },
  {
   "cell_type": "code",
   "execution_count": 14,
   "id": "ca86a2cf",
   "metadata": {},
   "outputs": [],
   "source": [
    "class Inventory():\n",
    "    \n",
    "    def __init__(self, csv_filename):\n",
    "        with open (\"C:/Users/kenechukwu.ifediorah/OneDrive - EverCare (1)/Documents/PythonDA/Datasets/{name}\".format(name = csv_filename), encoding = \"utf-8\") as file:\n",
    "            read = list(reader(file))\n",
    "            self.header = read[0]\n",
    "            self.rows = read[1:]\n",
    "        for row in self.rows:\n",
    "            row[-1] = int(row[-1])\n",
    "        self.id_to_row = {}\n",
    "        for row in self.rows:        \n",
    "            self.id_to_row[row[0]] = row \n",
    "        self.prices = set()                       \n",
    "        for row in self.rows:                        \n",
    "            self.prices.add(row[-1])\n",
    "        self.rows_by_price = sorted(self.rows, key = lambda row : row[-1])          #New Change\n",
    "            \n",
    "    def get_laptop_from_id(self, laptop_id):\n",
    "        for row in self.rows:\n",
    "            if row[0] == laptop_id:\n",
    "                return row\n",
    "        return \"None\"\n",
    "    \n",
    "    def get_laptop_from_id_fast(self, laptop_id):\n",
    "        if laptop_id in self.id_to_row:\n",
    "            return self.id_to_row[laptop_id]\n",
    "        else:\n",
    "            return \"None\"\n",
    "    def check_promotion_dollars(self, dollars):    \n",
    "        for i in self.rows:          \n",
    "            for j in self.rows:\n",
    "                if dollars == i[-1] or dollars == i[-1] + i[-1]:\n",
    "                    return True\n",
    "        return False      \n",
    "    \n",
    "    def check_promotion_dollars_fast(self, dollars):     \n",
    "        for i in self.prices:                            \n",
    "            for j in self.prices:                        \n",
    "                if i  == dollars or i+j == dollars:                \n",
    "                    return True                       \n",
    "        return False                                   \n",
    "        \n",
    "    def find_first_laptop_more_expensive(self, price):   #(The entire function is a new change)\n",
    "        range_start = 0\n",
    "        range_end = len(self.rows_by_price) - 1\n",
    "        while range_start < range_end:\n",
    "            range_middle = (range_start + range_end) // 2\n",
    "            current_price = self.rows_by_price[range_middle][-1]\n",
    "            if current_price > price:\n",
    "                range_end = range_middle\n",
    "            else:\n",
    "                range_start = range_middle + 1\n",
    "        current_price = self.rows_by_price[range_start][-1]\n",
    "        if current_price <= price:                  \n",
    "            return -1                                      \n",
    "        return range_start\n",
    "    \n",
    "        "
   ]
  },
  {
   "cell_type": "code",
   "execution_count": 15,
   "id": "502229ef",
   "metadata": {},
   "outputs": [
    {
     "name": "stdout",
     "output_type": "stream",
     "text": [
      "683\n",
      "-1\n"
     ]
    }
   ],
   "source": [
    "Test6 = Inventory(\"laptops.csv\")\n",
    "print(Test6.find_first_laptop_more_expensive(1000))\n",
    "print(Test6.find_first_laptop_more_expensive(10000))"
   ]
  },
  {
   "cell_type": "markdown",
   "id": "9c47bded",
   "metadata": {},
   "source": [
    "### Conclusion\n",
    "**In this project, three functionalities were created:**\n",
    "\n",
    "- Looking up laptops by their ID number\n",
    "- Seeing how many laptops a customer could afford given their budget\n",
    "- Determining the highest priced laptop at which the customer could not afford; determining all of the laptops within the customer's budget\n",
    "\n",
    "**The three built-in Python modules used were: csv, time, and random**\n",
    "\n",
    "**In this project, data pre-processing was used to significantly improve the time efficiency of the methods.**"
   ]
  }
 ],
 "metadata": {
  "kernelspec": {
   "display_name": "Python 3",
   "language": "python",
   "name": "python3"
  },
  "language_info": {
   "codemirror_mode": {
    "name": "ipython",
    "version": 3
   },
   "file_extension": ".py",
   "mimetype": "text/x-python",
   "name": "python",
   "nbconvert_exporter": "python",
   "pygments_lexer": "ipython3",
   "version": "3.8.8"
  }
 },
 "nbformat": 4,
 "nbformat_minor": 5
}
